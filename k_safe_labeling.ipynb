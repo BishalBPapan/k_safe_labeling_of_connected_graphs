{
 "cells": [
  {
   "cell_type": "code",
   "execution_count": 283,
   "metadata": {},
   "outputs": [],
   "source": [
    "import networkx as nx\n",
    "import operator\n",
    "import random"
   ]
  },
  {
   "cell_type": "code",
   "execution_count": 284,
   "metadata": {},
   "outputs": [
    {
     "name": "stdin",
     "output_type": "stream",
     "text": [
      " 2\n"
     ]
    },
    {
     "name": "stdout",
     "output_type": "stream",
     "text": [
      "True\n",
      "False\n"
     ]
    }
   ],
   "source": [
    "k = int(input())                                                                                        #input the value of k\n",
    "#G=nx.karate_club_graph()                                                                               #to test known dataset\n",
    "G=nx.Graph()                                                                                            #initialization of graph G\n",
    "G=nx.read_edgelist(\"E:/Papan(F)/Books/Thesis materials/Algo_python_simulation/2.txt\", nodetype = int)   #input graph from a file \n",
    "print(nx.is_connected(G))                                                                               #dataset checking\n",
    "print(nx.is_directed(G))                                                                                #dataset checking\n",
    "#print(k)"
   ]
  },
  {
   "cell_type": "code",
   "execution_count": 285,
   "metadata": {},
   "outputs": [
    {
     "data": {
      "text/plain": [
       "[(0, 1),\n",
       " (0, 2),\n",
       " (0, 3),\n",
       " (0, 5),\n",
       " (0, 6),\n",
       " (0, 8),\n",
       " (1, 5),\n",
       " (2, 4),\n",
       " (2, 5),\n",
       " (3, 4),\n",
       " (3, 5),\n",
       " (3, 7),\n",
       " (3, 8),\n",
       " (5, 8),\n",
       " (6, 4),\n",
       " (6, 7),\n",
       " (8, 7),\n",
       " (4, 7)]"
      ]
     },
     "execution_count": 285,
     "metadata": {},
     "output_type": "execute_result"
    }
   ],
   "source": [
    "E=[e for e in G.edges]                                                              #not necessary, only used it to debug\n",
    "E"
   ]
  },
  {
   "cell_type": "code",
   "execution_count": 286,
   "metadata": {},
   "outputs": [
    {
     "name": "stdout",
     "output_type": "stream",
     "text": [
      "9\n"
     ]
    }
   ],
   "source": [
    "n=nx.number_of_nodes(G)\n",
    "print(n)\n",
    "G2=nx.complete_graph(n)                                                           #conversion to complete graph"
   ]
  },
  {
   "cell_type": "code",
   "execution_count": 287,
   "metadata": {},
   "outputs": [],
   "source": [
    "E_h=[e for e in G2.edges]                                                         #not necessary, only used to debug"
   ]
  },
  {
   "cell_type": "code",
   "execution_count": 288,
   "metadata": {},
   "outputs": [
    {
     "name": "stdout",
     "output_type": "stream",
     "text": [
      "18\n"
     ]
    },
    {
     "data": {
      "text/plain": [
       "[(0, 4),\n",
       " (0, 7),\n",
       " (1, 2),\n",
       " (1, 3),\n",
       " (1, 4),\n",
       " (1, 6),\n",
       " (1, 7),\n",
       " (1, 8),\n",
       " (2, 8),\n",
       " (2, 3),\n",
       " (2, 6),\n",
       " (2, 7),\n",
       " (3, 6),\n",
       " (4, 8),\n",
       " (4, 5),\n",
       " (5, 6),\n",
       " (5, 7),\n",
       " (6, 8)]"
      ]
     },
     "execution_count": 288,
     "metadata": {},
     "output_type": "execute_result"
    }
   ],
   "source": [
    "E_c=[e for e in nx.non_edges(G)]                                                  #edges in complement graph of G\n",
    "print(len(E_c))\n",
    "E_c"
   ]
  },
  {
   "cell_type": "code",
   "execution_count": 289,
   "metadata": {},
   "outputs": [
    {
     "name": "stdout",
     "output_type": "stream",
     "text": [
      "{0: 1, 1: 3, 2: 5, 3: 7, 5: 11, 6: 13, 8: 17, 4: 9, 7: 15}\n",
      "8\n",
      "17\n"
     ]
    }
   ],
   "source": [
    "#label_init=[v*k+1 for v in G.nodes]\n",
    "label_init={vertex:vertex*k+1  for vertex in G.nodes}                            #labeling the complete graph using a dictionary\n",
    "#label_init[33] = 10\n",
    "print(label_init)\n",
    "#max_labeled=max(label_init)\n",
    "max_label=max(label_init.values())                                               #finding the maximum labeled vertex\n",
    "for vertex, label in label_init.items():                                         #finding the maximum label\n",
    "    if label == max_label:\n",
    "        max_labeled=vertex\n",
    "        break\n",
    "#max_labeled = max(enumerate(label_init.values()), key=operator.itemgetter(1))[0] \n",
    "#max_label = max(enumerate(label_init.values()), key=operator.itemgetter(1))[1]   \n",
    "print(max_labeled)\n",
    "print(max_label)"
   ]
  },
  {
   "cell_type": "code",
   "execution_count": 290,
   "metadata": {},
   "outputs": [],
   "source": [
    "def violate_constraints(G_now, label_now, k, vertex, label_this):                                       #this function checks if a label violates the constraints of k-safe labeling\n",
    "    for node in nx.all_neighbors(G_now, vertex):\n",
    "        if label_this in label_now.values() or (label_now[node] > 0 and ((label_this-label_now[node] < k and label_this-label_now[node] > 0) or (label_now[node]-label_this < k and label_now[node]-label_this >0))):\n",
    "            return True"
   ]
  },
  {
   "cell_type": "code",
   "execution_count": 291,
   "metadata": {},
   "outputs": [
    {
     "name": "stdout",
     "output_type": "stream",
     "text": [
      "(6, 8)\n",
      "17\n",
      "[(6, 8)]\n",
      "{8: 2, 7: 4, 6: 1, 5: 6, 4: 8, 3: 10, 2: 12, 1: 14, 0: 16}\n",
      "0\n",
      "16\n",
      "\n",
      "(0, 4)\n",
      "16\n",
      "[(6, 8), (0, 4)]\n",
      "{0: 1, 1: 7, 2: 9, 3: 11, 4: 2, 5: 13, 7: 15, 8: 5, 6: 4}\n",
      "7\n",
      "15\n",
      "\n",
      "(0, 7)\n",
      "15\n",
      "[(6, 8), (0, 4), (0, 7)]\n",
      "{7: 2, 5: 9, 3: 11, 2: 13, 1: 15, 8: 7, 6: 6, 4: 4, 0: 1}\n",
      "1\n",
      "15\n",
      "\n",
      "(1, 6)\n",
      "14\n",
      "[(6, 8), (0, 4), (0, 7), (1, 6)]\n",
      "{1: 1, 2: 11, 3: 13, 5: 15, 8: 9, 6: 2, 4: 7, 7: 5, 0: 4}\n",
      "5\n",
      "15\n",
      "\n",
      "(5, 7)\n",
      "13\n",
      "[(6, 8), (0, 4), (0, 7), (1, 6), (5, 7)]\n",
      "{5: 1, 3: 12, 2: 14, 8: 10, 4: 8, 7: 2, 0: 7, 6: 5, 1: 4}\n",
      "2\n",
      "14\n",
      "\n",
      "(2, 8)\n",
      "12\n",
      "[(6, 8), (0, 4), (0, 7), (1, 6), (5, 7), (2, 8)]\n",
      "{2: 1, 3: 13, 8: 2, 4: 11, 0: 10, 6: 8, 1: 7, 7: 5, 5: 4}\n",
      "3\n",
      "13\n",
      "\n",
      "(3, 6)\n",
      "11\n",
      "[(6, 8), (0, 4), (0, 7), (1, 6), (5, 7), (2, 8), (3, 6)]\n",
      "{3: 1, 4: 13, 0: 12, 6: 2, 1: 10, 7: 8, 5: 7, 8: 5, 2: 4}\n",
      "4\n",
      "13\n",
      "\n",
      "(4, 5)\n",
      "10\n",
      "[(6, 8), (0, 4), (0, 7), (1, 6), (5, 7), (2, 8), (3, 6), (4, 5)]\n",
      "{3: 1, 4: 13, 0: 12, 6: 2, 1: 10, 7: 8, 5: 7, 8: 5, 2: 4}\n",
      "4\n",
      "13\n",
      "\n",
      "(1, 4)\n",
      "9\n",
      "[(6, 8), (0, 4), (0, 7), (1, 6), (5, 7), (2, 8), (3, 6), (4, 5), (1, 4)]\n",
      "{4: 2, 0: 12, 1: 1, 7: 11, 5: 3, 8: 9, 2: 8, 6: 6, 3: 5}\n",
      "0\n",
      "12\n",
      "\n",
      "(1, 7)\n",
      "8\n",
      "[(6, 8), (0, 4), (0, 7), (1, 6), (5, 7), (2, 8), (3, 6), (4, 5), (1, 4), (1, 7)]\n",
      "{0: 12, 7: 2, 8: 10, 2: 9, 6: 7, 3: 6, 5: 3, 4: 4, 1: 1}\n",
      "0\n",
      "12\n",
      "\n",
      "(1, 8)\n",
      "7\n",
      "[(6, 8), (0, 4), (0, 7), (1, 6), (5, 7), (2, 8), (3, 6), (4, 5), (1, 4), (1, 7), (1, 8)]\n",
      "{0: 12, 7: 2, 8: 10, 2: 9, 6: 7, 3: 6, 5: 3, 4: 4, 1: 1}\n",
      "0\n",
      "12\n",
      "\n",
      "(4, 8)\n",
      "6\n",
      "[(6, 8), (0, 4), (0, 7), (1, 6), (5, 7), (2, 8), (3, 6), (4, 5), (1, 4), (1, 7), (1, 8), (4, 8)]\n",
      "{0: 12, 8: 2, 2: 10, 6: 8, 3: 7, 4: 1, 5: 5, 7: 4, 1: 3}\n",
      "0\n",
      "12\n",
      "\n",
      "(2, 7)\n",
      "5\n",
      "[(6, 8), (0, 4), (0, 7), (1, 6), (5, 7), (2, 8), (3, 6), (4, 5), (1, 4), (1, 7), (1, 8), (4, 8), (2, 7)]\n",
      "{0: 12, 2: 1, 6: 10, 3: 9, 5: 7, 7: 2, 1: 3, 8: 5, 4: 4}\n",
      "0\n",
      "12\n",
      "\n",
      "(5, 6)\n",
      "4\n",
      "[(6, 8), (0, 4), (0, 7), (1, 6), (5, 7), (2, 8), (3, 6), (4, 5), (1, 4), (1, 7), (1, 8), (4, 8), (2, 7), (5, 6)]\n",
      "{0: 12, 6: 2, 3: 10, 5: 1, 8: 8, 4: 7, 1: 6, 7: 5, 2: 4}\n",
      "0\n",
      "12\n",
      "\n",
      "(2, 3)\n",
      "3\n",
      "[(6, 8), (0, 4), (0, 7), (1, 6), (5, 7), (2, 8), (3, 6), (4, 5), (1, 4), (1, 7), (1, 8), (4, 8), (2, 7), (5, 6), (2, 3)]\n",
      "{0: 8, 3: 2, 8: 10, 4: 9, 1: 6, 7: 7, 2: 1, 6: 5, 5: 4}\n",
      "8\n",
      "10\n",
      "\n",
      "(1, 2)\n",
      "2\n",
      "[(6, 8), (0, 4), (0, 7), (1, 6), (5, 7), (2, 8), (3, 6), (4, 5), (1, 4), (1, 7), (1, 8), (4, 8), (2, 7), (5, 6), (2, 3), (1, 2)]\n",
      "{0: 8, 3: 2, 8: 10, 4: 9, 1: 6, 7: 7, 2: 1, 6: 5, 5: 4}\n",
      "8\n",
      "10\n",
      "\n",
      "(1, 3)\n",
      "1\n",
      "[(6, 8), (0, 4), (0, 7), (1, 6), (5, 7), (2, 8), (3, 6), (4, 5), (1, 4), (1, 7), (1, 8), (4, 8), (2, 7), (5, 6), (2, 3), (1, 2), (1, 3)]\n",
      "{0: 8, 3: 2, 8: 10, 4: 9, 1: 6, 7: 7, 2: 1, 6: 5, 5: 4}\n",
      "8\n",
      "10\n",
      "\n",
      "(2, 6)\n",
      "0\n",
      "[(6, 8), (0, 4), (0, 7), (1, 6), (5, 7), (2, 8), (3, 6), (4, 5), (1, 4), (1, 7), (1, 8), (4, 8), (2, 7), (5, 6), (2, 3), (1, 2), (1, 3), (2, 6)]\n",
      "{8: 10, 4: 9, 0: 8, 7: 7, 1: 3, 6: 2, 5: 6, 3: 4, 2: 1}\n",
      "8\n",
      "10\n",
      "\n"
     ]
    }
   ],
   "source": [
    "edge_stack = []                                                                   #stack where removed edges are pushed\n",
    "\n",
    "while not len(E_c)==0:                                                            #first outer loop, label_init is the dictionary of the previous step\n",
    "    label_p=label_init                                                            #not necessary\n",
    "    nodes_reversed=[w for w in sorted(label_p, key=label_init.get, reverse=True)] #sorting the vertices in decreasing order of labels\n",
    "    for node in nodes_reversed:                                                   #taking any random edge incident to the first maximum labeled vertex\n",
    "        if not len([e for e in E_c if e[0]==node or e[1]==node])==0:              #which has an incident edge in E_c\n",
    "            e_incident=random.choice([e for e in E_c if e[0]==node or e[1]==node])\n",
    "            break\n",
    "    \n",
    "    print(e_incident)\n",
    "    edge_stack.append(e_incident)                                                 #adding the edge to the stack\n",
    "    #print(len(E_c))\n",
    "    E_c.remove(e_incident)                                                        #removing the edge from E_c\n",
    "    print(len(E_c))\n",
    "    #print(len(E_h))\n",
    "    print(edge_stack)\n",
    "    #E_cc\n",
    "\n",
    "    if G2.has_edge(e_incident[0], e_incident[1]):\n",
    "        G2.remove_edge(e_incident[0], e_incident[1])                              #removing the edge from G2\n",
    "    else:\n",
    "        G2.remove_edge(e_incident[1], e_incident[0])\n",
    "        \n",
    "    #print(list(nx.non_edges(G2)))\n",
    "    label_now={vertex:0  for vertex in nodes_reversed}                            #initializing the dictionary of current step with labels 0\n",
    "    #label_now[e_incident[0]]=1\n",
    "    #label_now[e_incident[1]]=2\n",
    "    for e in edge_stack[::-1]:                                                    #inner loop 1, taking edges in the reverse order of input to stack\n",
    "        if label_now[e[0]]==0 and label_now[e[1]]==0:\n",
    "            for label in range(1,max_label):                                      #because a vertex can be labeled with at most the max_label of the previous step\n",
    "                if not violate_constraints(G2, label_now, k, e[0], label) and not violate_constraints(G2, label_now, k, e[1], label+1):  #if both vertices incident to the edges are unlabeled, then label both with consecutive integers\n",
    "                    label_now[e[0]]=label\n",
    "                    label_now[e[1]]=label+1\n",
    "                    break\n",
    "        elif label_now[e[0]]==0 and not label_now[e[1]]==0:                       #if only one vertex is unlabeled, label that one\n",
    "            for label in range(1,max_label+1):  \n",
    "                if not violate_constraints(G2, label_now, k, e[0], label):\n",
    "                    label_now[e[0]]=label\n",
    "                    break\n",
    "        elif label_now[e[1]]==0 and not label_now[e[0]]==0:                       #if only one vertex is unlabeled, label that one\n",
    "            for label in range(1,max_label+1):  \n",
    "                if not violate_constraints(G2, label_now, k, e[1], label):\n",
    "                    label_now[e[1]]=label\n",
    "                    break\n",
    "\n",
    "    for node in nodes_reversed:                                                   #inner loop 2, label the unlabeled vertices in the reverse order of labels in previous step\n",
    "        if label_now[node]==0:\n",
    "            for label in range(3,max_label+1):\n",
    "                if not violate_constraints(G2, label_now, k, node, label):        #------this for loop can be made efficient------#\n",
    "                    label_now[node]=label\n",
    "                    break\n",
    "    \n",
    "    flag=0                                                                        #to check if the current span is bigger than the previous span\n",
    "    for vertex, label in label_now.items():\n",
    "        if label == 0:                                                            #if one vertex is labeled as 0, that means a label more than the previous span should have been needed\n",
    "            flag=1\n",
    "            break\n",
    "    \n",
    "    if flag==0:                                                                   #flag=0 means the current span is not greater thab the previous span\n",
    "        label_init=label_now                                                      #replace the previous step's dictionary with current step's dictionary\n",
    "        \n",
    "    max_label=max(label_init.values())                                            #finding the maximum label in this step\n",
    "    for vertex, label in label_init.items():                                      #finding the maximum labeled vertex in this step\n",
    "        if label == max_label:\n",
    "            max_labeled=vertex\n",
    "            break\n",
    "    \n",
    "    print(label_init)\n",
    "    print(max_labeled)                                                            #printing for debugging and testing purposes\n",
    "    print(max_label)\n",
    "    print()"
   ]
  },
  {
   "cell_type": "code",
   "execution_count": 296,
   "metadata": {},
   "outputs": [
    {
     "ename": "NameError",
     "evalue": "name 'plt' is not defined",
     "output_type": "error",
     "traceback": [
      "\u001b[1;31m---------------------------------------------------------------------------\u001b[0m",
      "\u001b[1;31mNameError\u001b[0m                                 Traceback (most recent call last)",
      "\u001b[1;32m<ipython-input-296-5d88682779cb>\u001b[0m in \u001b[0;36m<module>\u001b[1;34m\u001b[0m\n\u001b[0;32m      1\u001b[0m \u001b[0mnx\u001b[0m\u001b[1;33m.\u001b[0m\u001b[0mdraw_networkx\u001b[0m\u001b[1;33m(\u001b[0m\u001b[0mG\u001b[0m\u001b[1;33m,\u001b[0m \u001b[0mwith_labels\u001b[0m\u001b[1;33m=\u001b[0m\u001b[1;32mTrue\u001b[0m\u001b[1;33m)\u001b[0m\u001b[1;33m\u001b[0m\u001b[1;33m\u001b[0m\u001b[0m\n\u001b[1;32m----> 2\u001b[1;33m \u001b[0mplt\u001b[0m\u001b[1;33m.\u001b[0m\u001b[0mshow\u001b[0m\u001b[1;33m(\u001b[0m\u001b[1;33m)\u001b[0m\u001b[1;33m\u001b[0m\u001b[1;33m\u001b[0m\u001b[0m\n\u001b[0m",
      "\u001b[1;31mNameError\u001b[0m: name 'plt' is not defined"
     ]
    },
    {
     "data": {
      "image/png": "[encoded data removed]",
      "text/plain": [
       "<Figure size 432x288 with 1 Axes>"
      ]
     },
     "metadata": {},
     "output_type": "display_data"
    }
   ],
   "source": [
    "nx.draw_networkx(G, with_labels=True)                                      #drawing the graph for debugging purposes\n",
    "plt.show()"
   ]
  },
  {
   "cell_type": "code",
   "execution_count": null,
   "metadata": {},
   "outputs": [],
   "source": []
  }
 ],
 "metadata": {
  "kernelspec": {
   "display_name": "Python 3",
   "language": "python",
   "name": "python3"
  },
  "language_info": {
   "codemirror_mode": {
    "name": "ipython",
    "version": 3
   },
   "file_extension": ".py",
   "mimetype": "text/x-python",
   "name": "python",
   "nbconvert_exporter": "python",
   "pygments_lexer": "ipython3",
   "version": "3.7.4"
  }
 },
 "nbformat": 4,
 "nbformat_minor": 4
}
